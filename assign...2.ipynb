{
 "cells": [
  {
   "cell_type": "markdown",
   "id": "a04ebd5e-ff5f-46b8-871c-27d8d189284e",
   "metadata": {
    "jp-MarkdownHeadingCollapsed": true,
    "tags": []
   },
   "source": [
    "# Q1. Explain why we have to use the Exception class while creating a Custom Exception.\n",
    "Note: Here Exception class refers to the base class for all the exceptions."
   ]
  },
  {
   "cell_type": "markdown",
   "id": "a7b80634-99ab-4a0f-9ed3-a0934c04b495",
   "metadata": {},
   "source": [
    "When creating custom exceptions in a programming language like Python, it is recommended to inherit from the `Exception` class or one of its subclasses. Here are a few reasons why using the `Exception` class as the base class for custom exceptions is beneficial:\n",
    "\n",
    "1. Inheritance: The `Exception` class is designed to be inherited, which means you can create a hierarchy of exceptions that inherit common behavior and attributes from the base class. By inheriting from `Exception`, your custom exception can automatically gain all the properties and methods defined in the base class.\n",
    "\n",
    "2. Standardization: Using the `Exception` class as the base ensures that your custom exception conforms to the standard exception handling mechanism provided by the programming language. By adhering to the established conventions, it becomes easier for other developers to understand and handle your custom exceptions consistently.\n",
    "\n",
    "3. Catching and Handling: When you raise a custom exception, you generally want to catch and handle it in a controlled manner. Since most exception handling mechanisms in programming languages catch exceptions based on their base class, using `Exception` as the base class ensures that your custom exception can be caught using a generic `except` block intended for catching any exception.\n",
    "\n",
    "4. Documentation and Readability: By inheriting from `Exception`, you make it clear to other developers that your class represents an exception. This improves code readability and helps maintainers and users of your code understand its purpose without needing to inspect the class implementation.\n",
    "\n",
    "5. Compatibility: Many libraries, frameworks, and tools are built around the assumption that exceptions inherit from the `Exception` class. If you create a custom exception that inherits from `Exception`, it will seamlessly integrate with these existing systems, making your code more compatible and interoperable.\n",
    "\n",
    "In summary, using the `Exception` class as the base for custom exceptions provides a standardized and consistent approach to exception handling, improves code readability, and ensures compatibility with existing tools and frameworks."
   ]
  },
  {
   "cell_type": "markdown",
   "id": "719ea3e4-0cfd-4170-aae4-ff9ec6a6fc80",
   "metadata": {
    "jp-MarkdownHeadingCollapsed": true,
    "tags": []
   },
   "source": [
    "# Q2. Write a python program to print Python Exception Hierarchy."
   ]
  },
  {
   "cell_type": "code",
   "execution_count": 1,
   "id": "d40f7b83-a019-41f4-82b6-d08a233fc074",
   "metadata": {},
   "outputs": [
    {
     "name": "stdout",
     "output_type": "stream",
     "text": [
      "Exception\n",
      "    TypeError\n",
      "        FloatOperation\n",
      "        MultipartConversionError\n",
      "    StopAsyncIteration\n",
      "    StopIteration\n",
      "    ImportError\n",
      "        ModuleNotFoundError\n",
      "        ZipImportError\n",
      "    OSError\n",
      "        ConnectionError\n",
      "            BrokenPipeError\n",
      "            ConnectionAbortedError\n",
      "            ConnectionRefusedError\n",
      "            ConnectionResetError\n",
      "                RemoteDisconnected\n",
      "        BlockingIOError\n",
      "        ChildProcessError\n",
      "        FileExistsError\n",
      "        FileNotFoundError\n",
      "        IsADirectoryError\n",
      "        NotADirectoryError\n",
      "        InterruptedError\n",
      "            InterruptedSystemCall\n",
      "        PermissionError\n",
      "        ProcessLookupError\n",
      "        TimeoutError\n",
      "        UnsupportedOperation\n",
      "        itimer_error\n",
      "        herror\n",
      "        gaierror\n",
      "        SSLError\n",
      "            SSLCertVerificationError\n",
      "            SSLZeroReturnError\n",
      "            SSLWantWriteError\n",
      "            SSLWantReadError\n",
      "            SSLSyscallError\n",
      "            SSLEOFError\n",
      "        Error\n",
      "            SameFileError\n",
      "        SpecialFileError\n",
      "        ExecError\n",
      "        ReadError\n",
      "        URLError\n",
      "            HTTPError\n",
      "            ContentTooShortError\n",
      "        BadGzipFile\n",
      "    EOFError\n",
      "        IncompleteReadError\n",
      "    RuntimeError\n",
      "        RecursionError\n",
      "        NotImplementedError\n",
      "            ZMQVersionError\n",
      "            StdinNotImplementedError\n",
      "        _DeadlockError\n",
      "        BrokenBarrierError\n",
      "        BrokenExecutor\n",
      "            BrokenThreadPool\n",
      "        SendfileNotAvailableError\n",
      "        ExtractionError\n",
      "        VariableError\n",
      "    NameError\n",
      "        UnboundLocalError\n",
      "    AttributeError\n",
      "        FrozenInstanceError\n",
      "    SyntaxError\n",
      "        IndentationError\n",
      "            TabError\n",
      "    LookupError\n",
      "        IndexError\n",
      "        KeyError\n",
      "            NoSuchKernel\n",
      "            UnknownBackend\n",
      "        CodecRegistryError\n",
      "    ValueError\n",
      "        UnicodeError\n",
      "            UnicodeEncodeError\n",
      "            UnicodeDecodeError\n",
      "            UnicodeTranslateError\n",
      "        UnsupportedOperation\n",
      "        JSONDecodeError\n",
      "        SSLCertVerificationError\n",
      "        Error\n",
      "        UnsupportedDigestmodError\n",
      "        IllegalMonthError\n",
      "        IllegalWeekdayError\n",
      "        ParserError\n",
      "        ClassNotFound\n",
      "        ClipboardEmpty\n",
      "        MessageDefect\n",
      "            NoBoundaryInMultipartDefect\n",
      "            StartBoundaryNotFoundDefect\n",
      "            CloseBoundaryNotFoundDefect\n",
      "            FirstHeaderLineIsContinuationDefect\n",
      "            MisplacedEnvelopeHeaderDefect\n",
      "            MissingHeaderBodySeparatorDefect\n",
      "            MultipartInvariantViolationDefect\n",
      "            InvalidMultipartContentTransferEncodingDefect\n",
      "            UndecodableBytesDefect\n",
      "            InvalidBase64PaddingDefect\n",
      "            InvalidBase64CharactersDefect\n",
      "            InvalidBase64LengthDefect\n",
      "            HeaderDefect\n",
      "                InvalidHeaderDefect\n",
      "                HeaderMissingRequiredValue\n",
      "                NonPrintableDefect\n",
      "                ObsoleteHeaderDefect\n",
      "                NonASCIILocalPartDefect\n",
      "                InvalidDateDefect\n",
      "        MacroToEdit\n",
      "        InvalidFileException\n",
      "        UnequalIterablesError\n",
      "        InvalidVersion\n",
      "        _InvalidELFFileHeader\n",
      "        InvalidWheelFilename\n",
      "        InvalidSdistFilename\n",
      "        InvalidSpecifier\n",
      "        InvalidMarker\n",
      "        UndefinedComparison\n",
      "        UndefinedEnvironmentName\n",
      "        InvalidRequirement\n",
      "            RequirementParseError\n",
      "        InvalidVersion\n",
      "    AssertionError\n",
      "    ArithmeticError\n",
      "        FloatingPointError\n",
      "        OverflowError\n",
      "        ZeroDivisionError\n",
      "            DivisionByZero\n",
      "            DivisionUndefined\n",
      "        DecimalException\n",
      "            Clamped\n",
      "            Rounded\n",
      "                Underflow\n",
      "                Overflow\n",
      "            Inexact\n",
      "                Underflow\n",
      "                Overflow\n",
      "            Subnormal\n",
      "                Underflow\n",
      "            DivisionByZero\n",
      "            FloatOperation\n",
      "            InvalidOperation\n",
      "                ConversionSyntax\n",
      "                DivisionImpossible\n",
      "                DivisionUndefined\n",
      "                InvalidContext\n",
      "    SystemError\n",
      "        CodecRegistryError\n",
      "    ReferenceError\n",
      "    MemoryError\n",
      "    BufferError\n",
      "    Warning\n",
      "        UserWarning\n",
      "            GetPassWarning\n",
      "            FormatterWarning\n",
      "        EncodingWarning\n",
      "        DeprecationWarning\n",
      "            ProvisionalWarning\n",
      "        PendingDeprecationWarning\n",
      "        SyntaxWarning\n",
      "        RuntimeWarning\n",
      "            ProactorSelectorThreadWarning\n",
      "            UnknownTimezoneWarning\n",
      "            PEP440Warning\n",
      "        FutureWarning\n",
      "            ProvisionalCompleterWarning\n",
      "        ImportWarning\n",
      "        UnicodeWarning\n",
      "        BytesWarning\n",
      "        ResourceWarning\n",
      "        DeprecatedTzFormatWarning\n",
      "        PkgResourcesDeprecationWarning\n",
      "    _OptionError\n",
      "    _Error\n",
      "    error\n",
      "    Verbose\n",
      "    Error\n",
      "    SubprocessError\n",
      "        CalledProcessError\n",
      "        TimeoutExpired\n",
      "    TokenError\n",
      "    StopTokenizing\n",
      "    ClassFoundException\n",
      "    EndOfBlock\n",
      "    TraitError\n",
      "    Error\n",
      "    Error\n",
      "        CancelledError\n",
      "        TimeoutError\n",
      "        InvalidStateError\n",
      "    _GiveupOnSendfile\n",
      "    error\n",
      "    Incomplete\n",
      "    TimeoutError\n",
      "    InvalidStateError\n",
      "    LimitOverrunError\n",
      "    QueueEmpty\n",
      "    QueueFull\n",
      "    Empty\n",
      "    Full\n",
      "    ArgumentError\n",
      "    ZMQBaseError\n",
      "        ZMQError\n",
      "            ContextTerminated\n",
      "            Again\n",
      "            InterruptedSystemCall\n",
      "        ZMQBindError\n",
      "        NotDone\n",
      "    PickleError\n",
      "        PicklingError\n",
      "        UnpicklingError\n",
      "    _Stop\n",
      "    ArgumentError\n",
      "    ArgumentTypeError\n",
      "    ConfigError\n",
      "        ConfigLoaderError\n",
      "            ArgumentError\n",
      "        ConfigFileNotFound\n",
      "    ConfigurableError\n",
      "        MultipleInstanceError\n",
      "    ApplicationError\n",
      "    error\n",
      "    TimeoutError\n",
      "    error\n",
      "    ReturnValueIgnoredError\n",
      "    KeyReuseError\n",
      "    UnknownKeyError\n",
      "    LeakedCallbackError\n",
      "    BadYieldError\n",
      "    ReturnValueIgnoredError\n",
      "    Return\n",
      "    InvalidPortNumber\n",
      "    error\n",
      "    LZMAError\n",
      "    RegistryError\n",
      "    _GiveupOnFastCopy\n",
      "    Error\n",
      "        NoSectionError\n",
      "        DuplicateSectionError\n",
      "        DuplicateOptionError\n",
      "        NoOptionError\n",
      "        InterpolationError\n",
      "            InterpolationMissingOptionError\n",
      "            InterpolationSyntaxError\n",
      "            InterpolationDepthError\n",
      "        ParsingError\n",
      "            MissingSectionHeaderError\n",
      "    NoIPAddresses\n",
      "    BadZipFile\n",
      "    LargeZipFile\n",
      "    BadEntryPoint\n",
      "    NoSuchEntryPoint\n",
      "    DuplicateKernelError\n",
      "    ErrorDuringImport\n",
      "    NotOneValueFound\n",
      "    CannotEval\n",
      "    OptionError\n",
      "    BdbQuit\n",
      "    Restart\n",
      "    ExceptionPexpect\n",
      "        EOF\n",
      "        TIMEOUT\n",
      "    PtyProcessError\n",
      "    FindCmdError\n",
      "    HomeDirError\n",
      "    ProfileDirError\n",
      "    IPythonCoreError\n",
      "        TryNext\n",
      "        UsageError\n",
      "        StdinNotImplementedError\n",
      "    InputRejected\n",
      "    GetoptError\n",
      "    ErrorToken\n",
      "    PrefilterError\n",
      "    AliasError\n",
      "        InvalidAliasError\n",
      "    Error\n",
      "        InterfaceError\n",
      "        DatabaseError\n",
      "            InternalError\n",
      "            OperationalError\n",
      "            ProgrammingError\n",
      "            IntegrityError\n",
      "            DataError\n",
      "            NotSupportedError\n",
      "    Warning\n",
      "    SpaceInInput\n",
      "    DOMException\n",
      "        IndexSizeErr\n",
      "        DomstringSizeErr\n",
      "        HierarchyRequestErr\n",
      "        WrongDocumentErr\n",
      "        InvalidCharacterErr\n",
      "        NoDataAllowedErr\n",
      "        NoModificationAllowedErr\n",
      "        NotFoundErr\n",
      "        NotSupportedErr\n",
      "        InuseAttributeErr\n",
      "        InvalidStateErr\n",
      "        SyntaxErr\n",
      "        InvalidModificationErr\n",
      "        NamespaceErr\n",
      "        InvalidAccessErr\n",
      "        ValidationErr\n",
      "    ValidationError\n",
      "    EditReadOnlyBuffer\n",
      "    _Retry\n",
      "    InvalidLayoutError\n",
      "    HeightIsUnknownError\n",
      "    ParserSyntaxError\n",
      "    InternalParseError\n",
      "    _PositionUpdatingFinished\n",
      "    SimpleGetItemNotFound\n",
      "    UncaughtAttributeError\n",
      "    HasNoContext\n",
      "    ParamIssue\n",
      "    _JediError\n",
      "        InternalError\n",
      "        WrongVersion\n",
      "        RefactoringError\n",
      "    OnErrorLeaf\n",
      "    InvalidPythonEnvironment\n",
      "    MessageError\n",
      "        MessageParseError\n",
      "            HeaderParseError\n",
      "            BoundaryError\n",
      "        MultipartConversionError\n",
      "        CharsetError\n",
      "    Error\n",
      "    HTTPException\n",
      "        NotConnected\n",
      "        InvalidURL\n",
      "        UnknownProtocol\n",
      "        UnknownTransferEncoding\n",
      "        UnimplementedFileMode\n",
      "        IncompleteRead\n",
      "        ImproperConnectionState\n",
      "            CannotSendRequest\n",
      "            CannotSendHeader\n",
      "            ResponseNotReady\n",
      "        BadStatusLine\n",
      "            RemoteDisconnected\n",
      "        LineTooLong\n",
      "    InteractivelyDefined\n",
      "    KillEmbedded\n",
      "    Error\n",
      "        NoSuchProcess\n",
      "            ZombieProcess\n",
      "        AccessDenied\n",
      "        TimeoutExpired\n",
      "    _Ipv6UnsupportedError\n",
      "    QueueEmpty\n",
      "    QueueFull\n",
      "    DebuggerInitializationError\n",
      "    ExpatError\n",
      "    Error\n",
      "        ProtocolError\n",
      "        ResponseError\n",
      "        Fault\n",
      "    ParseBaseException\n",
      "        ParseException\n",
      "        ParseFatalException\n",
      "            ParseSyntaxException\n",
      "    RecursiveGrammarException\n",
      "    ResolutionError\n",
      "        VersionConflict\n",
      "            ContextualVersionConflict\n",
      "        DistributionNotFound\n",
      "        UnknownExtra\n",
      "    _Error\n",
      "    UnableToResolveVariableException\n",
      "    InvalidTypeInArgsException\n"
     ]
    }
   ],
   "source": [
    "def print_exception_hierarchy(exception_class, indent=0):\n",
    "    print(' ' * indent + exception_class.__name__)\n",
    "    for subclass in exception_class.__subclasses__():\n",
    "        print_exception_hierarchy(subclass, indent + 4)\n",
    "\n",
    "print_exception_hierarchy(Exception)\n"
   ]
  },
  {
   "cell_type": "markdown",
   "id": "2dc38faf-d22c-4b3d-9ed0-c0ffe9a61b6d",
   "metadata": {},
   "source": [
    "# Q3. What errors are defined in the ArithmeticError class? Explain any two with an example."
   ]
  },
  {
   "cell_type": "markdown",
   "id": "14b3b694-6eab-466d-8cde-e0d6d3602bc3",
   "metadata": {},
   "source": [
    "ZeroDivisionError: This exception is raised when a division or modulo operation is performed with a divisor of zero."
   ]
  },
  {
   "cell_type": "code",
   "execution_count": 3,
   "id": "860d9c68-011d-49bc-bf40-3ed0db0fef6a",
   "metadata": {},
   "outputs": [
    {
     "ename": "ZeroDivisionError",
     "evalue": "division by zero",
     "output_type": "error",
     "traceback": [
      "\u001b[0;31m---------------------------------------------------------------------------\u001b[0m",
      "\u001b[0;31mZeroDivisionError\u001b[0m                         Traceback (most recent call last)",
      "Cell \u001b[0;32mIn[3], line 3\u001b[0m\n\u001b[1;32m      1\u001b[0m numerator \u001b[38;5;241m=\u001b[39m \u001b[38;5;241m10\u001b[39m\n\u001b[1;32m      2\u001b[0m denominator \u001b[38;5;241m=\u001b[39m \u001b[38;5;241m0\u001b[39m\n\u001b[0;32m----> 3\u001b[0m result \u001b[38;5;241m=\u001b[39m \u001b[43mnumerator\u001b[49m\u001b[43m \u001b[49m\u001b[38;5;241;43m/\u001b[39;49m\u001b[43m \u001b[49m\u001b[43mdenominator\u001b[49m  \u001b[38;5;66;03m# Raises a ZeroDivisionError: division by zero\u001b[39;00m\n",
      "\u001b[0;31mZeroDivisionError\u001b[0m: division by zero"
     ]
    }
   ],
   "source": [
    "numerator = 10\n",
    "denominator = 0\n",
    "result = numerator / denominator  # Raises a ZeroDivisionError: division by zero\n"
   ]
  },
  {
   "cell_type": "markdown",
   "id": "acc4c477-34b2-43ad-84b7-7f0bbc3683d7",
   "metadata": {},
   "source": [
    "OverflowError: This exception is raised when an arithmetic operation exceeds the maximum representable value.\n",
    "\n",
    "Example:"
   ]
  },
  {
   "cell_type": "code",
   "execution_count": 4,
   "id": "4e71c1e1-a359-4292-bcac-13513d54cd9b",
   "metadata": {},
   "outputs": [],
   "source": [
    "import sys\n",
    "result = sys.maxsize + 1  # Raises an OverflowError: int too large to convert to float\n"
   ]
  },
  {
   "cell_type": "code",
   "execution_count": 5,
   "id": "e5f6896f-519d-4967-ac6f-ea0c0c163674",
   "metadata": {},
   "outputs": [],
   "source": [
    "try:\n",
    "    # Some code that may raise ZeroDivisionError or OverflowError\n",
    "    pass\n",
    "except ArithmeticError as e:\n",
    "    print(\"Arithmetic error occurred:\", str(e))\n"
   ]
  },
  {
   "cell_type": "markdown",
   "id": "1d64bc13-39c9-4dc3-a3c0-9c85bc966a5f",
   "metadata": {},
   "source": [
    "# Q4. Why LookupError class is used? Explain with an example KeyError and IndexError."
   ]
  },
  {
   "cell_type": "markdown",
   "id": "27665091-271d-4f06-86cd-f75bf006770f",
   "metadata": {},
   "source": [
    "The LookupError class is a base class for exceptions that occur when a lookup or indexing operation fails. It serves as a parent class for exceptions like KeyError and IndexError, which are specific lookup-related errors."
   ]
  },
  {
   "cell_type": "markdown",
   "id": "7b377603-7d71-4409-b11e-e3e9776d1ac3",
   "metadata": {},
   "source": [
    "KeyError: This exception is raised when a dictionary is accessed with a key that does not exist in the dictionary.\n",
    "\n",
    "Example:"
   ]
  },
  {
   "cell_type": "code",
   "execution_count": 6,
   "id": "412d39c1-d686-4436-b539-7a7d0d92a0b7",
   "metadata": {},
   "outputs": [
    {
     "ename": "KeyError",
     "evalue": "'grape'",
     "output_type": "error",
     "traceback": [
      "\u001b[0;31m---------------------------------------------------------------------------\u001b[0m",
      "\u001b[0;31mKeyError\u001b[0m                                  Traceback (most recent call last)",
      "Cell \u001b[0;32mIn[6], line 2\u001b[0m\n\u001b[1;32m      1\u001b[0m my_dict \u001b[38;5;241m=\u001b[39m {\u001b[38;5;124m\"\u001b[39m\u001b[38;5;124mapple\u001b[39m\u001b[38;5;124m\"\u001b[39m: \u001b[38;5;241m1\u001b[39m, \u001b[38;5;124m\"\u001b[39m\u001b[38;5;124mbanana\u001b[39m\u001b[38;5;124m\"\u001b[39m: \u001b[38;5;241m2\u001b[39m, \u001b[38;5;124m\"\u001b[39m\u001b[38;5;124morange\u001b[39m\u001b[38;5;124m\"\u001b[39m: \u001b[38;5;241m3\u001b[39m}\n\u001b[0;32m----> 2\u001b[0m \u001b[38;5;28mprint\u001b[39m(\u001b[43mmy_dict\u001b[49m\u001b[43m[\u001b[49m\u001b[38;5;124;43m\"\u001b[39;49m\u001b[38;5;124;43mgrape\u001b[39;49m\u001b[38;5;124;43m\"\u001b[39;49m\u001b[43m]\u001b[49m)  \u001b[38;5;66;03m# Raises a KeyError: 'grape' not in dictionary\u001b[39;00m\n",
      "\u001b[0;31mKeyError\u001b[0m: 'grape'"
     ]
    }
   ],
   "source": [
    "my_dict = {\"apple\": 1, \"banana\": 2, \"orange\": 3}\n",
    "print(my_dict[\"grape\"])  # Raises a KeyError: 'grape' not in dictionary\n"
   ]
  },
  {
   "cell_type": "markdown",
   "id": "c3e95d8d-eb1f-440e-a87c-dd82f1ce8ccf",
   "metadata": {},
   "source": [
    "IndexError: This exception is raised when attempting to access an index that is out of range in a sequence, such as a list or a string."
   ]
  },
  {
   "cell_type": "code",
   "execution_count": 9,
   "id": "50128879-5dc5-46b9-84e5-d68c7a2dc96d",
   "metadata": {},
   "outputs": [
    {
     "ename": "IndexError",
     "evalue": "list index out of range",
     "output_type": "error",
     "traceback": [
      "\u001b[0;31m---------------------------------------------------------------------------\u001b[0m",
      "\u001b[0;31mIndexError\u001b[0m                                Traceback (most recent call last)",
      "Cell \u001b[0;32mIn[9], line 2\u001b[0m\n\u001b[1;32m      1\u001b[0m my_list \u001b[38;5;241m=\u001b[39m [\u001b[38;5;241m1\u001b[39m, \u001b[38;5;241m2\u001b[39m, \u001b[38;5;241m3\u001b[39m]\n\u001b[0;32m----> 2\u001b[0m \u001b[38;5;28mprint\u001b[39m(\u001b[43mmy_list\u001b[49m\u001b[43m[\u001b[49m\u001b[38;5;241;43m3\u001b[39;49m\u001b[43m]\u001b[49m)  \u001b[38;5;66;03m# Raises an IndexError: list index out of range\u001b[39;00m\n",
      "\u001b[0;31mIndexError\u001b[0m: list index out of range"
     ]
    }
   ],
   "source": [
    "my_list = [1, 2, 3]\n",
    "print(my_list[3])  # Raises an IndexError: list index out of range\n"
   ]
  },
  {
   "cell_type": "code",
   "execution_count": 10,
   "id": "e43e3198-65f1-4aa2-8f30-c618daf5a309",
   "metadata": {},
   "outputs": [],
   "source": [
    "try:\n",
    "    # Some code that may raise KeyError or IndexError\n",
    "    pass\n",
    "except LookupError as e:\n",
    "    print(\"Lookup error occurred:\", str(e))\n"
   ]
  },
  {
   "cell_type": "markdown",
   "id": "3e9da1de-55d3-44b0-9328-ee764a3a46de",
   "metadata": {},
   "source": [
    "# Q5. Explain ImportError. What is ModuleNotFoundError?"
   ]
  },
  {
   "cell_type": "markdown",
   "id": "7a67a0ce-cd06-4fbb-8f6e-07673667c714",
   "metadata": {},
   "source": [
    "In Python, ImportError and ModuleNotFoundError are both exceptions related to importing modules. Here's an explanation of each:"
   ]
  },
  {
   "cell_type": "markdown",
   "id": "91a9fee0-d744-4708-8640-34932b30a7b5",
   "metadata": {},
   "source": [
    "ImportError: This exception is raised when an import statement fails to import a module or when there is an error in the import process. It is a broad exception that encompasses various import-related errors.\n",
    "\n"
   ]
  },
  {
   "cell_type": "code",
   "execution_count": 11,
   "id": "3a91b7d5-735b-48df-9c9d-30a7e0214f29",
   "metadata": {},
   "outputs": [
    {
     "name": "stdout",
     "output_type": "stream",
     "text": [
      "Import error occurred: No module named 'non_existent_module'\n"
     ]
    }
   ],
   "source": [
    "try:\n",
    "    import non_existent_module  # Raises an ImportError: No module named 'non_existent_module'\n",
    "except ImportError as e:\n",
    "    print(\"Import error occurred:\", str(e))\n"
   ]
  },
  {
   "cell_type": "markdown",
   "id": "dbe6731d-bb07-4b86-80b8-c7f69c25a33f",
   "metadata": {},
   "source": [
    "ModuleNotFoundError: This exception is a subclass of ImportError and is specifically raised when an import statement fails to find the specified module.\n",
    "\n"
   ]
  },
  {
   "cell_type": "code",
   "execution_count": 12,
   "id": "c3a2a468-1394-4568-8e77-100a93c8f5dc",
   "metadata": {},
   "outputs": [
    {
     "name": "stdout",
     "output_type": "stream",
     "text": [
      "Module not found error occurred: No module named 'non_existent_module'\n"
     ]
    }
   ],
   "source": [
    "try:\n",
    "    import non_existent_module  # Raises a ModuleNotFoundError: No module named 'non_existent_module'\n",
    "except ModuleNotFoundError as e:\n",
    "    print(\"Module not found error occurred:\", str(e))\n"
   ]
  },
  {
   "cell_type": "markdown",
   "id": "94d046ed-b6de-477c-acf4-7da99afdd619",
   "metadata": {},
   "source": [
    "To summarize, ImportError is a generic exception that covers various import-related errors, while ModuleNotFoundError is a subclass of ImportError specifically used when a module cannot be found. In most cases, you can catch ImportError to handle both scenarios, but if you need to specifically handle module-not-found errors, you can catch ModuleNotFoundError.\n",
    "\n",
    "\n",
    "\n",
    "\n"
   ]
  },
  {
   "cell_type": "markdown",
   "id": "48433069-a579-4877-9c54-e00d2546a316",
   "metadata": {},
   "source": [
    "# Q6. List down some best practices for exception handling in python."
   ]
  },
  {
   "cell_type": "markdown",
   "id": "aa4a597a-8ade-43a4-a3fa-2de9c49caf70",
   "metadata": {},
   "source": [
    "Certainly! Here are some best practices for exception handling in Python:\n",
    "\n",
    "1. Use specific exception types: Catching and handling specific exception types allows you to handle different exceptions differently. This helps in writing targeted and appropriate exception handling code. Avoid using broad exception catch-all blocks unless necessary.\n",
    "\n",
    "2. Use multiple except blocks: If you need to handle different exceptions differently, use multiple `except` blocks to handle each exception individually. This allows you to provide specific error handling logic for different types of exceptions.\n",
    "\n",
    "3. Be specific in exception messages: When raising exceptions or displaying error messages, provide clear and informative messages that describe the cause of the exception. This helps with debugging and understanding the issue when an exception occurs.\n",
    "\n",
    "4. Use finally blocks for cleanup: If you have cleanup code that needs to be executed regardless of whether an exception occurred or not, use the `finally` block. The code in the `finally` block will be executed even if an exception is raised and not caught.\n",
    "\n",
    "5. Avoid catching and ignoring exceptions: It's generally not recommended to catch exceptions without taking any action. If you catch an exception, ensure that you handle it appropriately, either by logging the error, notifying the user, or performing some other relevant action.\n",
    "\n",
    "6. Use context managers for resource management: When working with resources that need to be explicitly closed or released (such as file handles or network connections), use context managers (the `with` statement) to ensure proper resource cleanup, even in the presence of exceptions.\n",
    "\n",
    "7. Log exceptions: Logging exceptions can be valuable for debugging and troubleshooting. Use a logging framework to log exception details, including the stack trace, to help identify the cause and location of the exception.\n",
    "\n",
    "8. Don't catch exceptions you can't handle: Avoid catching exceptions that you cannot handle effectively. Let the exception propagate up the call stack to a higher level where it can be appropriately handled or logged.\n",
    "\n",
    "9. Follow the principle of EAFP: EAFP stands for \"Easier to Ask for Forgiveness than Permission.\" This principle suggests that it's often better to attempt an operation and handle any resulting exceptions rather than checking for preconditions explicitly. It leads to more concise and Pythonic code.\n",
    "\n"
   ]
  },
  {
   "cell_type": "code",
   "execution_count": null,
   "id": "d257553c-7b7c-4a27-8676-3d9e821c6c45",
   "metadata": {},
   "outputs": [],
   "source": []
  }
 ],
 "metadata": {
  "kernelspec": {
   "display_name": "Python 3 (ipykernel)",
   "language": "python",
   "name": "python3"
  },
  "language_info": {
   "codemirror_mode": {
    "name": "ipython",
    "version": 3
   },
   "file_extension": ".py",
   "mimetype": "text/x-python",
   "name": "python",
   "nbconvert_exporter": "python",
   "pygments_lexer": "ipython3",
   "version": "3.10.8"
  }
 },
 "nbformat": 4,
 "nbformat_minor": 5
}
